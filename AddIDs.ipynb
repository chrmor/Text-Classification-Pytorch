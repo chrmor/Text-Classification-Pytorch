{
 "cells": [
  {
   "cell_type": "code",
   "execution_count": 10,
   "metadata": {},
   "outputs": [],
   "source": [
    "#JSON FILES\n",
    "idx = 0\n",
    "for year in range(2005,2019):\n",
    "\n",
    "    filein = \"../events-allignement/data/wikipedia-events-portal/wiki-events-\" + str(year) + \"_multilink_data.json\"\n",
    "    fileout = \"../events-allignement/data/wikipedia-events-portal/wiki-events-\" + str(year) +\"_multilink_data_id.json\"\n",
    "\n",
    "    with open(fileout, \"w\") as fout:\n",
    "        with open(filein, \"r\") as f:\n",
    "            for line in f:\n",
    "                if '{\"full-text\"' in line:\n",
    "                    idx += 1\n",
    "                    new_line = line.replace('{\"full-text\"', '{\"id\":\"' + str(idx) + '\",\"full-text\"')\n",
    "                else:\n",
    "                    new_line = line\n",
    "                fout.write(new_line)\n",
    "                    \n"
   ]
  },
  {
   "cell_type": "code",
   "execution_count": null,
   "metadata": {
    "collapsed": true
   },
   "outputs": [],
   "source": []
  }
 ],
 "metadata": {
  "kernelspec": {
   "display_name": "Python 3",
   "language": "python",
   "name": "python3"
  },
  "language_info": {
   "codemirror_mode": {
    "name": "ipython",
    "version": 3
   },
   "file_extension": ".py",
   "mimetype": "text/x-python",
   "name": "python",
   "nbconvert_exporter": "python",
   "pygments_lexer": "ipython3",
   "version": "3.6.1"
  }
 },
 "nbformat": 4,
 "nbformat_minor": 2
}
